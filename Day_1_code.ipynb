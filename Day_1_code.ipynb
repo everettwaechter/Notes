{
  "nbformat": 4,
  "nbformat_minor": 0,
  "metadata": {
    "colab": {
      "provenance": [],
      "authorship_tag": "ABX9TyODEUJcxmPvDca7wRtlCchr",
      "include_colab_link": true
    },
    "kernelspec": {
      "name": "python3",
      "display_name": "Python 3"
    },
    "language_info": {
      "name": "python"
    }
  },
  "cells": [
    {
      "cell_type": "markdown",
      "metadata": {
        "id": "view-in-github",
        "colab_type": "text"
      },
      "source": [
        "<a href=\"https://colab.research.google.com/github/everettwaechter/Notes/blob/main/Day_1_code.ipynb\" target=\"_parent\"><img src=\"https://colab.research.google.com/assets/colab-badge.svg\" alt=\"Open In Colab\"/></a>"
      ]
    },
    {
      "cell_type": "markdown",
      "source": [
        "## colab tutorial\n",
        "\n",
        "Jan 3rd, 2023\n",
        "\n",
        "Short cut: 'shift + return'\n",
        "\n",
        "Markdown basics:\n",
        "- **bold text**, also _Bold test_\n",
        "- *italicized*, also _italics_\n",
        "- `typewriter text`\n",
        "\n",
        "\n",
        "\n",
        "\n",
        "for tables:\n",
        "https://www.tablesgenerator.com/markdown_tables\n",
        "\n",
        "\n"
      ],
      "metadata": {
        "id": "PJRO_giRi5Yw"
      }
    },
    {
      "cell_type": "code",
      "source": [
        "x = 3 + 2\n",
        "x"
      ],
      "metadata": {
        "colab": {
          "base_uri": "https://localhost:8080/"
        },
        "id": "g_kk96P8kGPA",
        "outputId": "53f1de8d-448d-435d-af5e-d6f37a65c11a"
      },
      "execution_count": 1,
      "outputs": [
        {
          "output_type": "execute_result",
          "data": {
            "text/plain": [
              "5"
            ]
          },
          "metadata": {},
          "execution_count": 1
        }
      ]
    }
  ]
}